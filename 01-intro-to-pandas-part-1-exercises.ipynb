{
 "cells": [
  {
   "cell_type": "markdown",
   "metadata": {
    "tags": [
     "setup"
    ]
   },
   "source": [
    "(c) 2016 - present. Enplus Advisors, Inc."
   ]
  },
  {
   "cell_type": "code",
   "execution_count": 2,
   "metadata": {
    "tags": [
     "setup"
    ]
   },
   "outputs": [],
   "source": [
    "import numpy as np\n",
    "import pandas as pd"
   ]
  },
  {
   "cell_type": "markdown",
   "metadata": {
    "tags": [
     "exercise"
    ]
   },
   "source": [
    "**Exercise:**\n",
    "\n",
    "* Create a `Series` and assign it to `s1a` from the integers 6, 8, 7, 5\n",
    "* From a `dict`, create an integer `Series` and assign it to `s1b` with values 6, 8, 7, 5 named `s1b` and a string index 'a', 'b', 'c', and 'd'\n",
    "* Convert the `s1b` values to 64-bit floating point values\n",
    "* Extract only the values from the last `Series` you created"
   ]
  },
  {
   "cell_type": "code",
   "execution_count": 13,
   "metadata": {},
   "outputs": [
    {
     "name": "stdout",
     "output_type": "stream",
     "text": [
      "<PandasArray>\n",
      "[6.0, 8.0, 7.0, 5.0]\n",
      "Length: 4, dtype: float64\n",
      "[6. 8. 7. 5.]\n"
     ]
    }
   ],
   "source": [
    "s1a = pd.Series([6,8,7,5])\n",
    "s1b = pd.Series({'a':6,'b':8,'c':7,'d':5})\n",
    "\n",
    "s1b = s1b.astype(np.float64)\n",
    "#wrong answer\n",
    "s1b\n",
    "\n",
    "#correct\n",
    "#for pandas<0.24\n",
    "print(s1b.array)\n",
    "#for pandas>=0.24\n",
    "print(s1b.to_numpy())"
   ]
  },
  {
   "cell_type": "markdown",
   "metadata": {
    "tags": [
     "exercise"
    ]
   },
   "source": [
    "**Exercise:**\n",
    "\n",
    "* Select the first element of `s2` using integer indexing.\n",
    "* Select the first element of the `s2` using label indexing.\n",
    "* Select all elements greater than 6 in `s2` using boolean indexing."
   ]
  },
  {
   "cell_type": "code",
   "execution_count": 7,
   "metadata": {
    "tags": [
     "exercise"
    ]
   },
   "outputs": [
    {
     "name": "stdout",
     "output_type": "stream",
     "text": [
      "6\n",
      "6\n",
      "b    8\n",
      "c    7\n",
      "dtype: int64\n"
     ]
    }
   ],
   "source": [
    "s2 = pd.Series([6, 8, 7, 5], index=list('abcd'))\n",
    "print(s2[0])\n",
    "print(s2.loc['a'])\n",
    "print(s2[s2>6])"
   ]
  },
  {
   "cell_type": "markdown",
   "metadata": {
    "tags": [
     "exercise"
    ]
   },
   "source": [
    "**Exercise**\n",
    "\n",
    "* Select all non-NaN values in `s3`\n",
    "* What will the result of adding `s2` and `s3` together be? \n",
    "  Figure it out on paper then check in the notebook with `s2 + s3`"
   ]
  },
  {
   "cell_type": "code",
   "execution_count": 9,
   "metadata": {
    "tags": [
     "exercise"
    ]
   },
   "outputs": [],
   "source": [
    "s3 = pd.Series([9., 100., np.nan], index=list('ayz'))"
   ]
  },
  {
   "cell_type": "code",
   "execution_count": 21,
   "metadata": {},
   "outputs": [
    {
     "data": {
      "text/plain": [
       "a      9.0\n",
       "y    100.0\n",
       "dtype: float64"
      ]
     },
     "execution_count": 21,
     "metadata": {},
     "output_type": "execute_result"
    }
   ],
   "source": [
    "#method call\n",
    "s3[pd.notnull(s3)]\n",
    "\n",
    "#or function call\n",
    "\n",
    "#s3[~pd.isnull(s3)]"
   ]
  },
  {
   "cell_type": "code",
   "execution_count": 11,
   "metadata": {},
   "outputs": [
    {
     "data": {
      "text/plain": [
       "a    15.0\n",
       "b     NaN\n",
       "c     NaN\n",
       "d     NaN\n",
       "y     NaN\n",
       "z     NaN\n",
       "dtype: float64"
      ]
     },
     "execution_count": 11,
     "metadata": {},
     "output_type": "execute_result"
    }
   ],
   "source": [
    "s2+s3"
   ]
  },
  {
   "cell_type": "code",
   "execution_count": null,
   "metadata": {},
   "outputs": [],
   "source": []
  }
 ],
 "metadata": {
  "kernelspec": {
   "display_name": "Python 3",
   "language": "python",
   "name": "python3"
  },
  "language_info": {
   "codemirror_mode": {
    "name": "ipython",
    "version": 3
   },
   "file_extension": ".py",
   "mimetype": "text/x-python",
   "name": "python",
   "nbconvert_exporter": "python",
   "pygments_lexer": "ipython3",
   "version": "3.7.4"
  }
 },
 "nbformat": 4,
 "nbformat_minor": 4
}
